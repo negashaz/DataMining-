{
  "nbformat": 4,
  "nbformat_minor": 0,
  "metadata": {
    "colab": {
      "provenance": [],
      "authorship_tag": "ABX9TyPB1zjp/MASVecW60u8KeEK",
      "include_colab_link": true
    },
    "kernelspec": {
      "name": "python3",
      "display_name": "Python 3"
    },
    "language_info": {
      "name": "python"
    }
  },
  "cells": [
    {
      "cell_type": "markdown",
      "metadata": {
        "id": "view-in-github",
        "colab_type": "text"
      },
      "source": [
        "<a href=\"https://colab.research.google.com/github/negashaz/DataMining-/blob/main/hierarchical%20clustering.ipynb\" target=\"_parent\"><img src=\"https://colab.research.google.com/assets/colab-badge.svg\" alt=\"Open In Colab\"/></a>"
      ]
    },
    {
      "cell_type": "code",
      "execution_count": 1,
      "metadata": {
        "id": "V-dZk38XwTMw"
      },
      "outputs": [],
      "source": [
        "#importing required libraries\n",
        "import pandas as pd\n",
        "import numpy as np\n",
        "import matplotlib.pyplot as plt\n",
        "import seaborn as sns\n",
        "%matplotlib inline "
      ]
    },
    {
      "cell_type": "code",
      "source": [
        "#source: https://www.kaggle.com/datasets/crawford/1000-cameras-dataset?resource=download\n",
        "data = pd.read_csv(\"camera_dataset.csv\")\n",
        "data.head()"
      ],
      "metadata": {
        "colab": {
          "base_uri": "https://localhost:8080/",
          "height": 206
        },
        "id": "3iYWBhiPw2AG",
        "outputId": "56f5d9df-21d3-4d52-ef37-89465a2d0326"
      },
      "execution_count": 2,
      "outputs": [
        {
          "output_type": "execute_result",
          "data": {
            "text/plain": [
              "                    Model  Release date  Max resolution  Low resolution  \\\n",
              "0        Agfa ePhoto 1280          1997          1024.0           640.0   \n",
              "1        Agfa ePhoto 1680          1998          1280.0           640.0   \n",
              "2        Agfa ePhoto CL18          2000           640.0             0.0   \n",
              "3        Agfa ePhoto CL30          1999          1152.0           640.0   \n",
              "4  Agfa ePhoto CL30 Clik!          1999          1152.0           640.0   \n",
              "\n",
              "   Effective pixels  Zoom wide (W)  Zoom tele (T)  Normal focus range  \\\n",
              "0               0.0           38.0          114.0                70.0   \n",
              "1               1.0           38.0          114.0                50.0   \n",
              "2               0.0           45.0           45.0                 0.0   \n",
              "3               0.0           35.0           35.0                 0.0   \n",
              "4               0.0           43.0           43.0                50.0   \n",
              "\n",
              "   Macro focus range  Storage included  Weight (inc. batteries)  Dimensions  \\\n",
              "0               40.0               4.0                    420.0        95.0   \n",
              "1                0.0               4.0                    420.0       158.0   \n",
              "2                0.0               2.0                      0.0         0.0   \n",
              "3                0.0               4.0                      0.0         0.0   \n",
              "4                0.0              40.0                    300.0       128.0   \n",
              "\n",
              "    Price  \n",
              "0   179.0  \n",
              "1   179.0  \n",
              "2   179.0  \n",
              "3   269.0  \n",
              "4  1299.0  "
            ],
            "text/html": [
              "\n",
              "  <div id=\"df-49a4e9a6-3516-456d-b467-76e1a20fefc4\">\n",
              "    <div class=\"colab-df-container\">\n",
              "      <div>\n",
              "<style scoped>\n",
              "    .dataframe tbody tr th:only-of-type {\n",
              "        vertical-align: middle;\n",
              "    }\n",
              "\n",
              "    .dataframe tbody tr th {\n",
              "        vertical-align: top;\n",
              "    }\n",
              "\n",
              "    .dataframe thead th {\n",
              "        text-align: right;\n",
              "    }\n",
              "</style>\n",
              "<table border=\"1\" class=\"dataframe\">\n",
              "  <thead>\n",
              "    <tr style=\"text-align: right;\">\n",
              "      <th></th>\n",
              "      <th>Model</th>\n",
              "      <th>Release date</th>\n",
              "      <th>Max resolution</th>\n",
              "      <th>Low resolution</th>\n",
              "      <th>Effective pixels</th>\n",
              "      <th>Zoom wide (W)</th>\n",
              "      <th>Zoom tele (T)</th>\n",
              "      <th>Normal focus range</th>\n",
              "      <th>Macro focus range</th>\n",
              "      <th>Storage included</th>\n",
              "      <th>Weight (inc. batteries)</th>\n",
              "      <th>Dimensions</th>\n",
              "      <th>Price</th>\n",
              "    </tr>\n",
              "  </thead>\n",
              "  <tbody>\n",
              "    <tr>\n",
              "      <th>0</th>\n",
              "      <td>Agfa ePhoto 1280</td>\n",
              "      <td>1997</td>\n",
              "      <td>1024.0</td>\n",
              "      <td>640.0</td>\n",
              "      <td>0.0</td>\n",
              "      <td>38.0</td>\n",
              "      <td>114.0</td>\n",
              "      <td>70.0</td>\n",
              "      <td>40.0</td>\n",
              "      <td>4.0</td>\n",
              "      <td>420.0</td>\n",
              "      <td>95.0</td>\n",
              "      <td>179.0</td>\n",
              "    </tr>\n",
              "    <tr>\n",
              "      <th>1</th>\n",
              "      <td>Agfa ePhoto 1680</td>\n",
              "      <td>1998</td>\n",
              "      <td>1280.0</td>\n",
              "      <td>640.0</td>\n",
              "      <td>1.0</td>\n",
              "      <td>38.0</td>\n",
              "      <td>114.0</td>\n",
              "      <td>50.0</td>\n",
              "      <td>0.0</td>\n",
              "      <td>4.0</td>\n",
              "      <td>420.0</td>\n",
              "      <td>158.0</td>\n",
              "      <td>179.0</td>\n",
              "    </tr>\n",
              "    <tr>\n",
              "      <th>2</th>\n",
              "      <td>Agfa ePhoto CL18</td>\n",
              "      <td>2000</td>\n",
              "      <td>640.0</td>\n",
              "      <td>0.0</td>\n",
              "      <td>0.0</td>\n",
              "      <td>45.0</td>\n",
              "      <td>45.0</td>\n",
              "      <td>0.0</td>\n",
              "      <td>0.0</td>\n",
              "      <td>2.0</td>\n",
              "      <td>0.0</td>\n",
              "      <td>0.0</td>\n",
              "      <td>179.0</td>\n",
              "    </tr>\n",
              "    <tr>\n",
              "      <th>3</th>\n",
              "      <td>Agfa ePhoto CL30</td>\n",
              "      <td>1999</td>\n",
              "      <td>1152.0</td>\n",
              "      <td>640.0</td>\n",
              "      <td>0.0</td>\n",
              "      <td>35.0</td>\n",
              "      <td>35.0</td>\n",
              "      <td>0.0</td>\n",
              "      <td>0.0</td>\n",
              "      <td>4.0</td>\n",
              "      <td>0.0</td>\n",
              "      <td>0.0</td>\n",
              "      <td>269.0</td>\n",
              "    </tr>\n",
              "    <tr>\n",
              "      <th>4</th>\n",
              "      <td>Agfa ePhoto CL30 Clik!</td>\n",
              "      <td>1999</td>\n",
              "      <td>1152.0</td>\n",
              "      <td>640.0</td>\n",
              "      <td>0.0</td>\n",
              "      <td>43.0</td>\n",
              "      <td>43.0</td>\n",
              "      <td>50.0</td>\n",
              "      <td>0.0</td>\n",
              "      <td>40.0</td>\n",
              "      <td>300.0</td>\n",
              "      <td>128.0</td>\n",
              "      <td>1299.0</td>\n",
              "    </tr>\n",
              "  </tbody>\n",
              "</table>\n",
              "</div>\n",
              "      <button class=\"colab-df-convert\" onclick=\"convertToInteractive('df-49a4e9a6-3516-456d-b467-76e1a20fefc4')\"\n",
              "              title=\"Convert this dataframe to an interactive table.\"\n",
              "              style=\"display:none;\">\n",
              "        \n",
              "  <svg xmlns=\"http://www.w3.org/2000/svg\" height=\"24px\"viewBox=\"0 0 24 24\"\n",
              "       width=\"24px\">\n",
              "    <path d=\"M0 0h24v24H0V0z\" fill=\"none\"/>\n",
              "    <path d=\"M18.56 5.44l.94 2.06.94-2.06 2.06-.94-2.06-.94-.94-2.06-.94 2.06-2.06.94zm-11 1L8.5 8.5l.94-2.06 2.06-.94-2.06-.94L8.5 2.5l-.94 2.06-2.06.94zm10 10l.94 2.06.94-2.06 2.06-.94-2.06-.94-.94-2.06-.94 2.06-2.06.94z\"/><path d=\"M17.41 7.96l-1.37-1.37c-.4-.4-.92-.59-1.43-.59-.52 0-1.04.2-1.43.59L10.3 9.45l-7.72 7.72c-.78.78-.78 2.05 0 2.83L4 21.41c.39.39.9.59 1.41.59.51 0 1.02-.2 1.41-.59l7.78-7.78 2.81-2.81c.8-.78.8-2.07 0-2.86zM5.41 20L4 18.59l7.72-7.72 1.47 1.35L5.41 20z\"/>\n",
              "  </svg>\n",
              "      </button>\n",
              "      \n",
              "  <style>\n",
              "    .colab-df-container {\n",
              "      display:flex;\n",
              "      flex-wrap:wrap;\n",
              "      gap: 12px;\n",
              "    }\n",
              "\n",
              "    .colab-df-convert {\n",
              "      background-color: #E8F0FE;\n",
              "      border: none;\n",
              "      border-radius: 50%;\n",
              "      cursor: pointer;\n",
              "      display: none;\n",
              "      fill: #1967D2;\n",
              "      height: 32px;\n",
              "      padding: 0 0 0 0;\n",
              "      width: 32px;\n",
              "    }\n",
              "\n",
              "    .colab-df-convert:hover {\n",
              "      background-color: #E2EBFA;\n",
              "      box-shadow: 0px 1px 2px rgba(60, 64, 67, 0.3), 0px 1px 3px 1px rgba(60, 64, 67, 0.15);\n",
              "      fill: #174EA6;\n",
              "    }\n",
              "\n",
              "    [theme=dark] .colab-df-convert {\n",
              "      background-color: #3B4455;\n",
              "      fill: #D2E3FC;\n",
              "    }\n",
              "\n",
              "    [theme=dark] .colab-df-convert:hover {\n",
              "      background-color: #434B5C;\n",
              "      box-shadow: 0px 1px 3px 1px rgba(0, 0, 0, 0.15);\n",
              "      filter: drop-shadow(0px 1px 2px rgba(0, 0, 0, 0.3));\n",
              "      fill: #FFFFFF;\n",
              "    }\n",
              "  </style>\n",
              "\n",
              "      <script>\n",
              "        const buttonEl =\n",
              "          document.querySelector('#df-49a4e9a6-3516-456d-b467-76e1a20fefc4 button.colab-df-convert');\n",
              "        buttonEl.style.display =\n",
              "          google.colab.kernel.accessAllowed ? 'block' : 'none';\n",
              "\n",
              "        async function convertToInteractive(key) {\n",
              "          const element = document.querySelector('#df-49a4e9a6-3516-456d-b467-76e1a20fefc4');\n",
              "          const dataTable =\n",
              "            await google.colab.kernel.invokeFunction('convertToInteractive',\n",
              "                                                     [key], {});\n",
              "          if (!dataTable) return;\n",
              "\n",
              "          const docLinkHtml = 'Like what you see? Visit the ' +\n",
              "            '<a target=\"_blank\" href=https://colab.research.google.com/notebooks/data_table.ipynb>data table notebook</a>'\n",
              "            + ' to learn more about interactive tables.';\n",
              "          element.innerHTML = '';\n",
              "          dataTable['output_type'] = 'display_data';\n",
              "          await google.colab.output.renderOutput(dataTable, element);\n",
              "          const docLink = document.createElement('div');\n",
              "          docLink.innerHTML = docLinkHtml;\n",
              "          element.appendChild(docLink);\n",
              "        }\n",
              "      </script>\n",
              "    </div>\n",
              "  </div>\n",
              "  "
            ]
          },
          "metadata": {},
          "execution_count": 2
        }
      ]
    },
    {
      "cell_type": "code",
      "source": [
        "data.columns"
      ],
      "metadata": {
        "colab": {
          "base_uri": "https://localhost:8080/"
        },
        "id": "PJ8NYfdexijF",
        "outputId": "716b08ef-f7bc-4432-89a5-8c6e722f5972"
      },
      "execution_count": 3,
      "outputs": [
        {
          "output_type": "execute_result",
          "data": {
            "text/plain": [
              "Index(['Model', 'Release date', 'Max resolution', 'Low resolution',\n",
              "       'Effective pixels', 'Zoom wide (W)', 'Zoom tele (T)',\n",
              "       'Normal focus range', 'Macro focus range', 'Storage included',\n",
              "       'Weight (inc. batteries)', 'Dimensions', 'Price'],\n",
              "      dtype='object')"
            ]
          },
          "metadata": {},
          "execution_count": 3
        }
      ]
    },
    {
      "cell_type": "code",
      "source": [
        "data.info()"
      ],
      "metadata": {
        "colab": {
          "base_uri": "https://localhost:8080/"
        },
        "id": "jHVWvTYGxjg8",
        "outputId": "ce7ab6fb-a2d4-4885-89aa-c98df168567c"
      },
      "execution_count": 4,
      "outputs": [
        {
          "output_type": "stream",
          "name": "stdout",
          "text": [
            "<class 'pandas.core.frame.DataFrame'>\n",
            "RangeIndex: 1038 entries, 0 to 1037\n",
            "Data columns (total 13 columns):\n",
            " #   Column                   Non-Null Count  Dtype  \n",
            "---  ------                   --------------  -----  \n",
            " 0   Model                    1038 non-null   object \n",
            " 1   Release date             1038 non-null   int64  \n",
            " 2   Max resolution           1038 non-null   float64\n",
            " 3   Low resolution           1038 non-null   float64\n",
            " 4   Effective pixels         1038 non-null   float64\n",
            " 5   Zoom wide (W)            1038 non-null   float64\n",
            " 6   Zoom tele (T)            1038 non-null   float64\n",
            " 7   Normal focus range       1038 non-null   float64\n",
            " 8   Macro focus range        1037 non-null   float64\n",
            " 9   Storage included         1036 non-null   float64\n",
            " 10  Weight (inc. batteries)  1036 non-null   float64\n",
            " 11  Dimensions               1036 non-null   float64\n",
            " 12  Price                    1038 non-null   float64\n",
            "dtypes: float64(11), int64(1), object(1)\n",
            "memory usage: 105.5+ KB\n"
          ]
        }
      ]
    },
    {
      "cell_type": "code",
      "source": [
        "#count the number of missing values in each row and column\n",
        "data.isnull().sum()"
      ],
      "metadata": {
        "colab": {
          "base_uri": "https://localhost:8080/"
        },
        "id": "sWXziC_wxoBN",
        "outputId": "b74e89ed-e51c-417b-d944-9b72f2c8364f"
      },
      "execution_count": 5,
      "outputs": [
        {
          "output_type": "execute_result",
          "data": {
            "text/plain": [
              "Model                      0\n",
              "Release date               0\n",
              "Max resolution             0\n",
              "Low resolution             0\n",
              "Effective pixels           0\n",
              "Zoom wide (W)              0\n",
              "Zoom tele (T)              0\n",
              "Normal focus range         0\n",
              "Macro focus range          1\n",
              "Storage included           2\n",
              "Weight (inc. batteries)    2\n",
              "Dimensions                 2\n",
              "Price                      0\n",
              "dtype: int64"
            ]
          },
          "metadata": {},
          "execution_count": 5
        }
      ]
    },
    {
      "cell_type": "code",
      "source": [
        "data.describe()"
      ],
      "metadata": {
        "colab": {
          "base_uri": "https://localhost:8080/",
          "height": 300
        },
        "id": "KDjQXajXxqBU",
        "outputId": "c21cb6f0-8939-4723-849a-88be838f58e3"
      },
      "execution_count": 6,
      "outputs": [
        {
          "output_type": "execute_result",
          "data": {
            "text/plain": [
              "       Release date  Max resolution  Low resolution  Effective pixels  \\\n",
              "count   1038.000000     1038.000000     1038.000000       1038.000000   \n",
              "mean    2003.590559     2474.672447     1773.936416          4.596339   \n",
              "std        2.724755      759.513608      830.897955          2.844044   \n",
              "min     1994.000000        0.000000        0.000000          0.000000   \n",
              "25%     2002.000000     2048.000000     1120.000000          3.000000   \n",
              "50%     2004.000000     2560.000000     2048.000000          4.000000   \n",
              "75%     2006.000000     3072.000000     2560.000000          7.000000   \n",
              "max     2007.000000     5616.000000     4992.000000         21.000000   \n",
              "\n",
              "       Zoom wide (W)  Zoom tele (T)  Normal focus range  Macro focus range  \\\n",
              "count    1038.000000    1038.000000         1038.000000        1037.000000   \n",
              "mean       32.963391     121.525048           44.145472           7.787850   \n",
              "std        10.333149      93.455422           24.141959           8.100081   \n",
              "min         0.000000       0.000000            0.000000           0.000000   \n",
              "25%        35.000000      96.000000           30.000000           3.000000   \n",
              "50%        36.000000     108.000000           50.000000           6.000000   \n",
              "75%        38.000000     117.000000           60.000000          10.000000   \n",
              "max        52.000000     518.000000          120.000000          85.000000   \n",
              "\n",
              "       Storage included  Weight (inc. batteries)   Dimensions        Price  \n",
              "count       1036.000000              1036.000000  1036.000000  1038.000000  \n",
              "mean          17.447876               319.265444   105.363417   457.384393  \n",
              "std           27.440655               260.410137    24.262761   760.452918  \n",
              "min            0.000000                 0.000000     0.000000    14.000000  \n",
              "25%            8.000000               180.000000    92.000000   149.000000  \n",
              "50%           16.000000               226.000000   101.000000   199.000000  \n",
              "75%           20.000000               350.000000   115.000000   399.000000  \n",
              "max          450.000000              1860.000000   240.000000  7999.000000  "
            ],
            "text/html": [
              "\n",
              "  <div id=\"df-3737d567-b9fd-4db3-b953-e4ef28525ff2\">\n",
              "    <div class=\"colab-df-container\">\n",
              "      <div>\n",
              "<style scoped>\n",
              "    .dataframe tbody tr th:only-of-type {\n",
              "        vertical-align: middle;\n",
              "    }\n",
              "\n",
              "    .dataframe tbody tr th {\n",
              "        vertical-align: top;\n",
              "    }\n",
              "\n",
              "    .dataframe thead th {\n",
              "        text-align: right;\n",
              "    }\n",
              "</style>\n",
              "<table border=\"1\" class=\"dataframe\">\n",
              "  <thead>\n",
              "    <tr style=\"text-align: right;\">\n",
              "      <th></th>\n",
              "      <th>Release date</th>\n",
              "      <th>Max resolution</th>\n",
              "      <th>Low resolution</th>\n",
              "      <th>Effective pixels</th>\n",
              "      <th>Zoom wide (W)</th>\n",
              "      <th>Zoom tele (T)</th>\n",
              "      <th>Normal focus range</th>\n",
              "      <th>Macro focus range</th>\n",
              "      <th>Storage included</th>\n",
              "      <th>Weight (inc. batteries)</th>\n",
              "      <th>Dimensions</th>\n",
              "      <th>Price</th>\n",
              "    </tr>\n",
              "  </thead>\n",
              "  <tbody>\n",
              "    <tr>\n",
              "      <th>count</th>\n",
              "      <td>1038.000000</td>\n",
              "      <td>1038.000000</td>\n",
              "      <td>1038.000000</td>\n",
              "      <td>1038.000000</td>\n",
              "      <td>1038.000000</td>\n",
              "      <td>1038.000000</td>\n",
              "      <td>1038.000000</td>\n",
              "      <td>1037.000000</td>\n",
              "      <td>1036.000000</td>\n",
              "      <td>1036.000000</td>\n",
              "      <td>1036.000000</td>\n",
              "      <td>1038.000000</td>\n",
              "    </tr>\n",
              "    <tr>\n",
              "      <th>mean</th>\n",
              "      <td>2003.590559</td>\n",
              "      <td>2474.672447</td>\n",
              "      <td>1773.936416</td>\n",
              "      <td>4.596339</td>\n",
              "      <td>32.963391</td>\n",
              "      <td>121.525048</td>\n",
              "      <td>44.145472</td>\n",
              "      <td>7.787850</td>\n",
              "      <td>17.447876</td>\n",
              "      <td>319.265444</td>\n",
              "      <td>105.363417</td>\n",
              "      <td>457.384393</td>\n",
              "    </tr>\n",
              "    <tr>\n",
              "      <th>std</th>\n",
              "      <td>2.724755</td>\n",
              "      <td>759.513608</td>\n",
              "      <td>830.897955</td>\n",
              "      <td>2.844044</td>\n",
              "      <td>10.333149</td>\n",
              "      <td>93.455422</td>\n",
              "      <td>24.141959</td>\n",
              "      <td>8.100081</td>\n",
              "      <td>27.440655</td>\n",
              "      <td>260.410137</td>\n",
              "      <td>24.262761</td>\n",
              "      <td>760.452918</td>\n",
              "    </tr>\n",
              "    <tr>\n",
              "      <th>min</th>\n",
              "      <td>1994.000000</td>\n",
              "      <td>0.000000</td>\n",
              "      <td>0.000000</td>\n",
              "      <td>0.000000</td>\n",
              "      <td>0.000000</td>\n",
              "      <td>0.000000</td>\n",
              "      <td>0.000000</td>\n",
              "      <td>0.000000</td>\n",
              "      <td>0.000000</td>\n",
              "      <td>0.000000</td>\n",
              "      <td>0.000000</td>\n",
              "      <td>14.000000</td>\n",
              "    </tr>\n",
              "    <tr>\n",
              "      <th>25%</th>\n",
              "      <td>2002.000000</td>\n",
              "      <td>2048.000000</td>\n",
              "      <td>1120.000000</td>\n",
              "      <td>3.000000</td>\n",
              "      <td>35.000000</td>\n",
              "      <td>96.000000</td>\n",
              "      <td>30.000000</td>\n",
              "      <td>3.000000</td>\n",
              "      <td>8.000000</td>\n",
              "      <td>180.000000</td>\n",
              "      <td>92.000000</td>\n",
              "      <td>149.000000</td>\n",
              "    </tr>\n",
              "    <tr>\n",
              "      <th>50%</th>\n",
              "      <td>2004.000000</td>\n",
              "      <td>2560.000000</td>\n",
              "      <td>2048.000000</td>\n",
              "      <td>4.000000</td>\n",
              "      <td>36.000000</td>\n",
              "      <td>108.000000</td>\n",
              "      <td>50.000000</td>\n",
              "      <td>6.000000</td>\n",
              "      <td>16.000000</td>\n",
              "      <td>226.000000</td>\n",
              "      <td>101.000000</td>\n",
              "      <td>199.000000</td>\n",
              "    </tr>\n",
              "    <tr>\n",
              "      <th>75%</th>\n",
              "      <td>2006.000000</td>\n",
              "      <td>3072.000000</td>\n",
              "      <td>2560.000000</td>\n",
              "      <td>7.000000</td>\n",
              "      <td>38.000000</td>\n",
              "      <td>117.000000</td>\n",
              "      <td>60.000000</td>\n",
              "      <td>10.000000</td>\n",
              "      <td>20.000000</td>\n",
              "      <td>350.000000</td>\n",
              "      <td>115.000000</td>\n",
              "      <td>399.000000</td>\n",
              "    </tr>\n",
              "    <tr>\n",
              "      <th>max</th>\n",
              "      <td>2007.000000</td>\n",
              "      <td>5616.000000</td>\n",
              "      <td>4992.000000</td>\n",
              "      <td>21.000000</td>\n",
              "      <td>52.000000</td>\n",
              "      <td>518.000000</td>\n",
              "      <td>120.000000</td>\n",
              "      <td>85.000000</td>\n",
              "      <td>450.000000</td>\n",
              "      <td>1860.000000</td>\n",
              "      <td>240.000000</td>\n",
              "      <td>7999.000000</td>\n",
              "    </tr>\n",
              "  </tbody>\n",
              "</table>\n",
              "</div>\n",
              "      <button class=\"colab-df-convert\" onclick=\"convertToInteractive('df-3737d567-b9fd-4db3-b953-e4ef28525ff2')\"\n",
              "              title=\"Convert this dataframe to an interactive table.\"\n",
              "              style=\"display:none;\">\n",
              "        \n",
              "  <svg xmlns=\"http://www.w3.org/2000/svg\" height=\"24px\"viewBox=\"0 0 24 24\"\n",
              "       width=\"24px\">\n",
              "    <path d=\"M0 0h24v24H0V0z\" fill=\"none\"/>\n",
              "    <path d=\"M18.56 5.44l.94 2.06.94-2.06 2.06-.94-2.06-.94-.94-2.06-.94 2.06-2.06.94zm-11 1L8.5 8.5l.94-2.06 2.06-.94-2.06-.94L8.5 2.5l-.94 2.06-2.06.94zm10 10l.94 2.06.94-2.06 2.06-.94-2.06-.94-.94-2.06-.94 2.06-2.06.94z\"/><path d=\"M17.41 7.96l-1.37-1.37c-.4-.4-.92-.59-1.43-.59-.52 0-1.04.2-1.43.59L10.3 9.45l-7.72 7.72c-.78.78-.78 2.05 0 2.83L4 21.41c.39.39.9.59 1.41.59.51 0 1.02-.2 1.41-.59l7.78-7.78 2.81-2.81c.8-.78.8-2.07 0-2.86zM5.41 20L4 18.59l7.72-7.72 1.47 1.35L5.41 20z\"/>\n",
              "  </svg>\n",
              "      </button>\n",
              "      \n",
              "  <style>\n",
              "    .colab-df-container {\n",
              "      display:flex;\n",
              "      flex-wrap:wrap;\n",
              "      gap: 12px;\n",
              "    }\n",
              "\n",
              "    .colab-df-convert {\n",
              "      background-color: #E8F0FE;\n",
              "      border: none;\n",
              "      border-radius: 50%;\n",
              "      cursor: pointer;\n",
              "      display: none;\n",
              "      fill: #1967D2;\n",
              "      height: 32px;\n",
              "      padding: 0 0 0 0;\n",
              "      width: 32px;\n",
              "    }\n",
              "\n",
              "    .colab-df-convert:hover {\n",
              "      background-color: #E2EBFA;\n",
              "      box-shadow: 0px 1px 2px rgba(60, 64, 67, 0.3), 0px 1px 3px 1px rgba(60, 64, 67, 0.15);\n",
              "      fill: #174EA6;\n",
              "    }\n",
              "\n",
              "    [theme=dark] .colab-df-convert {\n",
              "      background-color: #3B4455;\n",
              "      fill: #D2E3FC;\n",
              "    }\n",
              "\n",
              "    [theme=dark] .colab-df-convert:hover {\n",
              "      background-color: #434B5C;\n",
              "      box-shadow: 0px 1px 3px 1px rgba(0, 0, 0, 0.15);\n",
              "      filter: drop-shadow(0px 1px 2px rgba(0, 0, 0, 0.3));\n",
              "      fill: #FFFFFF;\n",
              "    }\n",
              "  </style>\n",
              "\n",
              "      <script>\n",
              "        const buttonEl =\n",
              "          document.querySelector('#df-3737d567-b9fd-4db3-b953-e4ef28525ff2 button.colab-df-convert');\n",
              "        buttonEl.style.display =\n",
              "          google.colab.kernel.accessAllowed ? 'block' : 'none';\n",
              "\n",
              "        async function convertToInteractive(key) {\n",
              "          const element = document.querySelector('#df-3737d567-b9fd-4db3-b953-e4ef28525ff2');\n",
              "          const dataTable =\n",
              "            await google.colab.kernel.invokeFunction('convertToInteractive',\n",
              "                                                     [key], {});\n",
              "          if (!dataTable) return;\n",
              "\n",
              "          const docLinkHtml = 'Like what you see? Visit the ' +\n",
              "            '<a target=\"_blank\" href=https://colab.research.google.com/notebooks/data_table.ipynb>data table notebook</a>'\n",
              "            + ' to learn more about interactive tables.';\n",
              "          element.innerHTML = '';\n",
              "          dataTable['output_type'] = 'display_data';\n",
              "          await google.colab.output.renderOutput(dataTable, element);\n",
              "          const docLink = document.createElement('div');\n",
              "          docLink.innerHTML = docLinkHtml;\n",
              "          element.appendChild(docLink);\n",
              "        }\n",
              "      </script>\n",
              "    </div>\n",
              "  </div>\n",
              "  "
            ]
          },
          "metadata": {},
          "execution_count": 6
        }
      ]
    },
    {
      "cell_type": "code",
      "source": [
        "#reducing the amount of dataset to two columns\n",
        "x_data = data [[\"Max resolution\", \"Price\"]]\n",
        "x_data.head()"
      ],
      "metadata": {
        "colab": {
          "base_uri": "https://localhost:8080/",
          "height": 206
        },
        "id": "57FTreh5xruz",
        "outputId": "60f891f4-7c97-48d2-b67e-6378919e65cb"
      },
      "execution_count": 7,
      "outputs": [
        {
          "output_type": "execute_result",
          "data": {
            "text/plain": [
              "   Max resolution   Price\n",
              "0          1024.0   179.0\n",
              "1          1280.0   179.0\n",
              "2           640.0   179.0\n",
              "3          1152.0   269.0\n",
              "4          1152.0  1299.0"
            ],
            "text/html": [
              "\n",
              "  <div id=\"df-7395f26b-afe6-435d-b6ea-c7f5c7e759f9\">\n",
              "    <div class=\"colab-df-container\">\n",
              "      <div>\n",
              "<style scoped>\n",
              "    .dataframe tbody tr th:only-of-type {\n",
              "        vertical-align: middle;\n",
              "    }\n",
              "\n",
              "    .dataframe tbody tr th {\n",
              "        vertical-align: top;\n",
              "    }\n",
              "\n",
              "    .dataframe thead th {\n",
              "        text-align: right;\n",
              "    }\n",
              "</style>\n",
              "<table border=\"1\" class=\"dataframe\">\n",
              "  <thead>\n",
              "    <tr style=\"text-align: right;\">\n",
              "      <th></th>\n",
              "      <th>Max resolution</th>\n",
              "      <th>Price</th>\n",
              "    </tr>\n",
              "  </thead>\n",
              "  <tbody>\n",
              "    <tr>\n",
              "      <th>0</th>\n",
              "      <td>1024.0</td>\n",
              "      <td>179.0</td>\n",
              "    </tr>\n",
              "    <tr>\n",
              "      <th>1</th>\n",
              "      <td>1280.0</td>\n",
              "      <td>179.0</td>\n",
              "    </tr>\n",
              "    <tr>\n",
              "      <th>2</th>\n",
              "      <td>640.0</td>\n",
              "      <td>179.0</td>\n",
              "    </tr>\n",
              "    <tr>\n",
              "      <th>3</th>\n",
              "      <td>1152.0</td>\n",
              "      <td>269.0</td>\n",
              "    </tr>\n",
              "    <tr>\n",
              "      <th>4</th>\n",
              "      <td>1152.0</td>\n",
              "      <td>1299.0</td>\n",
              "    </tr>\n",
              "  </tbody>\n",
              "</table>\n",
              "</div>\n",
              "      <button class=\"colab-df-convert\" onclick=\"convertToInteractive('df-7395f26b-afe6-435d-b6ea-c7f5c7e759f9')\"\n",
              "              title=\"Convert this dataframe to an interactive table.\"\n",
              "              style=\"display:none;\">\n",
              "        \n",
              "  <svg xmlns=\"http://www.w3.org/2000/svg\" height=\"24px\"viewBox=\"0 0 24 24\"\n",
              "       width=\"24px\">\n",
              "    <path d=\"M0 0h24v24H0V0z\" fill=\"none\"/>\n",
              "    <path d=\"M18.56 5.44l.94 2.06.94-2.06 2.06-.94-2.06-.94-.94-2.06-.94 2.06-2.06.94zm-11 1L8.5 8.5l.94-2.06 2.06-.94-2.06-.94L8.5 2.5l-.94 2.06-2.06.94zm10 10l.94 2.06.94-2.06 2.06-.94-2.06-.94-.94-2.06-.94 2.06-2.06.94z\"/><path d=\"M17.41 7.96l-1.37-1.37c-.4-.4-.92-.59-1.43-.59-.52 0-1.04.2-1.43.59L10.3 9.45l-7.72 7.72c-.78.78-.78 2.05 0 2.83L4 21.41c.39.39.9.59 1.41.59.51 0 1.02-.2 1.41-.59l7.78-7.78 2.81-2.81c.8-.78.8-2.07 0-2.86zM5.41 20L4 18.59l7.72-7.72 1.47 1.35L5.41 20z\"/>\n",
              "  </svg>\n",
              "      </button>\n",
              "      \n",
              "  <style>\n",
              "    .colab-df-container {\n",
              "      display:flex;\n",
              "      flex-wrap:wrap;\n",
              "      gap: 12px;\n",
              "    }\n",
              "\n",
              "    .colab-df-convert {\n",
              "      background-color: #E8F0FE;\n",
              "      border: none;\n",
              "      border-radius: 50%;\n",
              "      cursor: pointer;\n",
              "      display: none;\n",
              "      fill: #1967D2;\n",
              "      height: 32px;\n",
              "      padding: 0 0 0 0;\n",
              "      width: 32px;\n",
              "    }\n",
              "\n",
              "    .colab-df-convert:hover {\n",
              "      background-color: #E2EBFA;\n",
              "      box-shadow: 0px 1px 2px rgba(60, 64, 67, 0.3), 0px 1px 3px 1px rgba(60, 64, 67, 0.15);\n",
              "      fill: #174EA6;\n",
              "    }\n",
              "\n",
              "    [theme=dark] .colab-df-convert {\n",
              "      background-color: #3B4455;\n",
              "      fill: #D2E3FC;\n",
              "    }\n",
              "\n",
              "    [theme=dark] .colab-df-convert:hover {\n",
              "      background-color: #434B5C;\n",
              "      box-shadow: 0px 1px 3px 1px rgba(0, 0, 0, 0.15);\n",
              "      filter: drop-shadow(0px 1px 2px rgba(0, 0, 0, 0.3));\n",
              "      fill: #FFFFFF;\n",
              "    }\n",
              "  </style>\n",
              "\n",
              "      <script>\n",
              "        const buttonEl =\n",
              "          document.querySelector('#df-7395f26b-afe6-435d-b6ea-c7f5c7e759f9 button.colab-df-convert');\n",
              "        buttonEl.style.display =\n",
              "          google.colab.kernel.accessAllowed ? 'block' : 'none';\n",
              "\n",
              "        async function convertToInteractive(key) {\n",
              "          const element = document.querySelector('#df-7395f26b-afe6-435d-b6ea-c7f5c7e759f9');\n",
              "          const dataTable =\n",
              "            await google.colab.kernel.invokeFunction('convertToInteractive',\n",
              "                                                     [key], {});\n",
              "          if (!dataTable) return;\n",
              "\n",
              "          const docLinkHtml = 'Like what you see? Visit the ' +\n",
              "            '<a target=\"_blank\" href=https://colab.research.google.com/notebooks/data_table.ipynb>data table notebook</a>'\n",
              "            + ' to learn more about interactive tables.';\n",
              "          element.innerHTML = '';\n",
              "          dataTable['output_type'] = 'display_data';\n",
              "          await google.colab.output.renderOutput(dataTable, element);\n",
              "          const docLink = document.createElement('div');\n",
              "          docLink.innerHTML = docLinkHtml;\n",
              "          element.appendChild(docLink);\n",
              "        }\n",
              "      </script>\n",
              "    </div>\n",
              "  </div>\n",
              "  "
            ]
          },
          "metadata": {},
          "execution_count": 7
        }
      ]
    },
    {
      "cell_type": "code",
      "source": [
        "#saving the files as csv\n",
        "x_data.to_csv('camera_dataset_reduced.csv')"
      ],
      "metadata": {
        "id": "ZzVxFIfuycPe"
      },
      "execution_count": 8,
      "outputs": []
    },
    {
      "cell_type": "code",
      "source": [
        "#a sample scatter plot for the dataset\n",
        "plt.figure(figsize = (7,7))\n",
        "plt.scatter(x_data[\"Max resolution\"], x_data[\"Price\"], color = 'Grey')\n",
        "plt.title('Scatter Plot for Max resolution and Price')\n",
        "plt.xlabel('Max resolution')\n",
        "plt.ylabel('Price')\n",
        "plt.show()"
      ],
      "metadata": {
        "colab": {
          "base_uri": "https://localhost:8080/",
          "height": 458
        },
        "id": "l-kqx42JxxV8",
        "outputId": "8758560d-7972-4d41-9c82-94773e106892"
      },
      "execution_count": 9,
      "outputs": [
        {
          "output_type": "display_data",
          "data": {
            "text/plain": [
              "<Figure size 504x504 with 1 Axes>"
            ],
            "image/png": "[encoded data removed]"
          },
          "metadata": {
            "needs_background": "light"
          }
        }
      ]
    },
    {
      "cell_type": "code",
      "source": [
        "#re-valuing the current numeric attributes into a range between 1 and 0\n",
        "from sklearn.preprocessing import normalize\n",
        "data_scaled = normalize(x_data)\n",
        "data_scaled = pd.DataFrame(data_scaled, columns=x_data.columns)\n",
        "data_scaled.head()"
      ],
      "metadata": {
        "colab": {
          "base_uri": "https://localhost:8080/",
          "height": 206
        },
        "id": "OEbXMEBOyjjl",
        "outputId": "f43eb80c-2cf8-4b91-f6c8-6a9a2ccacfe8"
      },
      "execution_count": 10,
      "outputs": [
        {
          "output_type": "execute_result",
          "data": {
            "text/plain": [
              "   Max resolution     Price\n",
              "0        0.985063  0.172194\n",
              "1        0.990363  0.138496\n",
              "2        0.963042  0.269351\n",
              "3        0.973804  0.227390\n",
              "4        0.663505  0.748171"
            ],
            "text/html": [
              "\n",
              "  <div id=\"df-7136d1b8-4cc7-4fcc-a950-4b8a617fb243\">\n",
              "    <div class=\"colab-df-container\">\n",
              "      <div>\n",
              "<style scoped>\n",
              "    .dataframe tbody tr th:only-of-type {\n",
              "        vertical-align: middle;\n",
              "    }\n",
              "\n",
              "    .dataframe tbody tr th {\n",
              "        vertical-align: top;\n",
              "    }\n",
              "\n",
              "    .dataframe thead th {\n",
              "        text-align: right;\n",
              "    }\n",
              "</style>\n",
              "<table border=\"1\" class=\"dataframe\">\n",
              "  <thead>\n",
              "    <tr style=\"text-align: right;\">\n",
              "      <th></th>\n",
              "      <th>Max resolution</th>\n",
              "      <th>Price</th>\n",
              "    </tr>\n",
              "  </thead>\n",
              "  <tbody>\n",
              "    <tr>\n",
              "      <th>0</th>\n",
              "      <td>0.985063</td>\n",
              "      <td>0.172194</td>\n",
              "    </tr>\n",
              "    <tr>\n",
              "      <th>1</th>\n",
              "      <td>0.990363</td>\n",
              "      <td>0.138496</td>\n",
              "    </tr>\n",
              "    <tr>\n",
              "      <th>2</th>\n",
              "      <td>0.963042</td>\n",
              "      <td>0.269351</td>\n",
              "    </tr>\n",
              "    <tr>\n",
              "      <th>3</th>\n",
              "      <td>0.973804</td>\n",
              "      <td>0.227390</td>\n",
              "    </tr>\n",
              "    <tr>\n",
              "      <th>4</th>\n",
              "      <td>0.663505</td>\n",
              "      <td>0.748171</td>\n",
              "    </tr>\n",
              "  </tbody>\n",
              "</table>\n",
              "</div>\n",
              "      <button class=\"colab-df-convert\" onclick=\"convertToInteractive('df-7136d1b8-4cc7-4fcc-a950-4b8a617fb243')\"\n",
              "              title=\"Convert this dataframe to an interactive table.\"\n",
              "              style=\"display:none;\">\n",
              "        \n",
              "  <svg xmlns=\"http://www.w3.org/2000/svg\" height=\"24px\"viewBox=\"0 0 24 24\"\n",
              "       width=\"24px\">\n",
              "    <path d=\"M0 0h24v24H0V0z\" fill=\"none\"/>\n",
              "    <path d=\"M18.56 5.44l.94 2.06.94-2.06 2.06-.94-2.06-.94-.94-2.06-.94 2.06-2.06.94zm-11 1L8.5 8.5l.94-2.06 2.06-.94-2.06-.94L8.5 2.5l-.94 2.06-2.06.94zm10 10l.94 2.06.94-2.06 2.06-.94-2.06-.94-.94-2.06-.94 2.06-2.06.94z\"/><path d=\"M17.41 7.96l-1.37-1.37c-.4-.4-.92-.59-1.43-.59-.52 0-1.04.2-1.43.59L10.3 9.45l-7.72 7.72c-.78.78-.78 2.05 0 2.83L4 21.41c.39.39.9.59 1.41.59.51 0 1.02-.2 1.41-.59l7.78-7.78 2.81-2.81c.8-.78.8-2.07 0-2.86zM5.41 20L4 18.59l7.72-7.72 1.47 1.35L5.41 20z\"/>\n",
              "  </svg>\n",
              "      </button>\n",
              "      \n",
              "  <style>\n",
              "    .colab-df-container {\n",
              "      display:flex;\n",
              "      flex-wrap:wrap;\n",
              "      gap: 12px;\n",
              "    }\n",
              "\n",
              "    .colab-df-convert {\n",
              "      background-color: #E8F0FE;\n",
              "      border: none;\n",
              "      border-radius: 50%;\n",
              "      cursor: pointer;\n",
              "      display: none;\n",
              "      fill: #1967D2;\n",
              "      height: 32px;\n",
              "      padding: 0 0 0 0;\n",
              "      width: 32px;\n",
              "    }\n",
              "\n",
              "    .colab-df-convert:hover {\n",
              "      background-color: #E2EBFA;\n",
              "      box-shadow: 0px 1px 2px rgba(60, 64, 67, 0.3), 0px 1px 3px 1px rgba(60, 64, 67, 0.15);\n",
              "      fill: #174EA6;\n",
              "    }\n",
              "\n",
              "    [theme=dark] .colab-df-convert {\n",
              "      background-color: #3B4455;\n",
              "      fill: #D2E3FC;\n",
              "    }\n",
              "\n",
              "    [theme=dark] .colab-df-convert:hover {\n",
              "      background-color: #434B5C;\n",
              "      box-shadow: 0px 1px 3px 1px rgba(0, 0, 0, 0.15);\n",
              "      filter: drop-shadow(0px 1px 2px rgba(0, 0, 0, 0.3));\n",
              "      fill: #FFFFFF;\n",
              "    }\n",
              "  </style>\n",
              "\n",
              "      <script>\n",
              "        const buttonEl =\n",
              "          document.querySelector('#df-7136d1b8-4cc7-4fcc-a950-4b8a617fb243 button.colab-df-convert');\n",
              "        buttonEl.style.display =\n",
              "          google.colab.kernel.accessAllowed ? 'block' : 'none';\n",
              "\n",
              "        async function convertToInteractive(key) {\n",
              "          const element = document.querySelector('#df-7136d1b8-4cc7-4fcc-a950-4b8a617fb243');\n",
              "          const dataTable =\n",
              "            await google.colab.kernel.invokeFunction('convertToInteractive',\n",
              "                                                     [key], {});\n",
              "          if (!dataTable) return;\n",
              "\n",
              "          const docLinkHtml = 'Like what you see? Visit the ' +\n",
              "            '<a target=\"_blank\" href=https://colab.research.google.com/notebooks/data_table.ipynb>data table notebook</a>'\n",
              "            + ' to learn more about interactive tables.';\n",
              "          element.innerHTML = '';\n",
              "          dataTable['output_type'] = 'display_data';\n",
              "          await google.colab.output.renderOutput(dataTable, element);\n",
              "          const docLink = document.createElement('div');\n",
              "          docLink.innerHTML = docLinkHtml;\n",
              "          element.appendChild(docLink);\n",
              "        }\n",
              "      </script>\n",
              "    </div>\n",
              "  </div>\n",
              "  "
            ]
          },
          "metadata": {},
          "execution_count": 10
        }
      ]
    },
    {
      "cell_type": "code",
      "source": [
        "#saving the files as csv\n",
        "x_data.to_csv('camera_dataset_normalized.csv')"
      ],
      "metadata": {
        "id": "lYxuA5rVyma8"
      },
      "execution_count": 11,
      "outputs": []
    },
    {
      "cell_type": "code",
      "source": [
        "#converting the scaled data to a numpy array\n",
        "my_array = data_scaled.to_numpy()\n",
        "print(my_array)"
      ],
      "metadata": {
        "colab": {
          "base_uri": "https://localhost:8080/"
        },
        "id": "xm1gCu1myy6M",
        "outputId": "41a889ae-cb7a-4501-c06c-cbc37d0fbc90"
      },
      "execution_count": 12,
      "outputs": [
        {
          "output_type": "stream",
          "name": "stdout",
          "text": [
            "[[0.98506312 0.17219365]\n",
            " [0.99036298 0.13849607]\n",
            " [0.96304212 0.26935084]\n",
            " ...\n",
            " [0.99954207 0.03025957]\n",
            " [0.99966649 0.02582472]\n",
            " [0.99676556 0.08036422]]\n"
          ]
        }
      ]
    },
    {
      "cell_type": "markdown",
      "source": [
        "**Constructing a Dendrogram** \n",
        "\n",
        "The sole concept of hierarchical clustering lies in the construction and analysis of a dendrogram. Unlike K-means Clustering while constructing hierarchical clustering we do not keep any assumption of the number of the number of clusters."
      ],
      "metadata": {
        "id": "OXtES-Vcy43d"
      }
    },
    {
      "cell_type": "code",
      "source": [
        "#creating a dendrogram using SciPy\n",
        "import scipy.cluster.hierarchy as shc\n",
        "plt.figure(figsize=(10, 7))  \n",
        "plt.title(\"Dendrogram for Max resolution and Price\")  \n",
        "dend = shc.dendrogram(shc.linkage(my_array, method='ward'))"
      ],
      "metadata": {
        "colab": {
          "base_uri": "https://localhost:8080/",
          "height": 447
        },
        "id": "dbCdFLvyy8zc",
        "outputId": "4693697e-0cb2-46ff-aadd-2618e9e7d435"
      },
      "execution_count": 13,
      "outputs": [
        {
          "output_type": "display_data",
          "data": {
            "text/plain": [
              "<Figure size 720x504 with 1 Axes>"
            ],
            "image/png": "[encoded data removed]"
          },
          "metadata": {
            "needs_background": "light"
          }
        }
      ]
    },
    {
      "cell_type": "markdown",
      "source": [
        "After the dendogram has been constructed, we slice the structure horizontally. And all the resulting child branches formed below the horizontal cut represent an individual cluster at the highest level in the system and will define the associated cluster membership for each data sample. While this is the case, there is always an option to increase/decrease the granularity level of clustering. \n"
      ],
      "metadata": {
        "id": "p5yaSbj7zIoF"
      }
    },
    {
      "cell_type": "code",
      "source": [
        "plt.figure(figsize=(10, 7))  \n",
        "plt.title(\"Dendrogram for Max resolution and Price\")  \n",
        "dend = shc.dendrogram(shc.linkage(data_scaled, method='ward'))\n",
        "#for a y value of 4\n",
        "plt.axhline(y=4, color='r', linestyle='--')\n",
        "#for a y value of 2\n",
        "plt.axhline(y=2, color='r', linestyle='--')"
      ],
      "metadata": {
        "colab": {
          "base_uri": "https://localhost:8080/",
          "height": 464
        },
        "id": "XaFo2eyky-3M",
        "outputId": "8158a70b-1383-42ba-b9e5-a1a9cfe3efb2"
      },
      "execution_count": 14,
      "outputs": [
        {
          "output_type": "execute_result",
          "data": {
            "text/plain": [
              "<matplotlib.lines.Line2D at 0x7f55615c2cd0>"
            ]
          },
          "metadata": {},
          "execution_count": 14
        },
        {
          "output_type": "display_data",
          "data": {
            "text/plain": [
              "<Figure size 720x504 with 1 Axes>"
            ],
            "image/png": "[encoded data removed]"
          },
          "metadata": {
            "needs_background": "light"
          }
        }
      ]
    },
    {
      "cell_type": "code",
      "source": [
        "'''\n",
        "The current dataset used for this program only contains 1000 points but is able to run on a larger \n",
        "number of points. We didn't have the computing power to process 5000 points and above. \n",
        "\n",
        "If required, we have attached the orignal dataset selected for this assignment as a comment\n",
        "in the cells below and we can assure that the program will definitely work.\n",
        "\n",
        "'''\n",
        "\n",
        "'''\n",
        "data = pd.read_csv(\"Churn_Modelling.csv\")\n",
        "x_data = data [[\"Age\", \"CreditScore\"]]\n",
        "'''"
      ],
      "metadata": {
        "colab": {
          "base_uri": "https://localhost:8080/",
          "height": 35
        },
        "id": "MEn4PRFxtr_9",
        "outputId": "3dbaccd4-6986-40dc-e581-d47d80a7117f"
      },
      "execution_count": 15,
      "outputs": [
        {
          "output_type": "execute_result",
          "data": {
            "text/plain": [
              "'\\ndata = pd.read_csv(\"Churn_Modelling.csv\")\\nx_data = data [[\"Age\", \"CreditScore\"]]\\n'"
            ],
            "application/vnd.google.colaboratory.intrinsic+json": {
              "type": "string"
            }
          },
          "metadata": {},
          "execution_count": 15
        }
      ]
    },
    {
      "cell_type": "code",
      "source": [
        "#the reduced dataset before normalization\n",
        "x_data.head()"
      ],
      "metadata": {
        "colab": {
          "base_uri": "https://localhost:8080/",
          "height": 206
        },
        "id": "ilbZR198zRf0",
        "outputId": "b6059a6f-0b73-4aac-92b0-d268271c7522"
      },
      "execution_count": 16,
      "outputs": [
        {
          "output_type": "execute_result",
          "data": {
            "text/plain": [
              "   Max resolution   Price\n",
              "0          1024.0   179.0\n",
              "1          1280.0   179.0\n",
              "2           640.0   179.0\n",
              "3          1152.0   269.0\n",
              "4          1152.0  1299.0"
            ],
            "text/html": [
              "\n",
              "  <div id=\"df-764aa5ff-22db-46a6-9a58-fb04103df168\">\n",
              "    <div class=\"colab-df-container\">\n",
              "      <div>\n",
              "<style scoped>\n",
              "    .dataframe tbody tr th:only-of-type {\n",
              "        vertical-align: middle;\n",
              "    }\n",
              "\n",
              "    .dataframe tbody tr th {\n",
              "        vertical-align: top;\n",
              "    }\n",
              "\n",
              "    .dataframe thead th {\n",
              "        text-align: right;\n",
              "    }\n",
              "</style>\n",
              "<table border=\"1\" class=\"dataframe\">\n",
              "  <thead>\n",
              "    <tr style=\"text-align: right;\">\n",
              "      <th></th>\n",
              "      <th>Max resolution</th>\n",
              "      <th>Price</th>\n",
              "    </tr>\n",
              "  </thead>\n",
              "  <tbody>\n",
              "    <tr>\n",
              "      <th>0</th>\n",
              "      <td>1024.0</td>\n",
              "      <td>179.0</td>\n",
              "    </tr>\n",
              "    <tr>\n",
              "      <th>1</th>\n",
              "      <td>1280.0</td>\n",
              "      <td>179.0</td>\n",
              "    </tr>\n",
              "    <tr>\n",
              "      <th>2</th>\n",
              "      <td>640.0</td>\n",
              "      <td>179.0</td>\n",
              "    </tr>\n",
              "    <tr>\n",
              "      <th>3</th>\n",
              "      <td>1152.0</td>\n",
              "      <td>269.0</td>\n",
              "    </tr>\n",
              "    <tr>\n",
              "      <th>4</th>\n",
              "      <td>1152.0</td>\n",
              "      <td>1299.0</td>\n",
              "    </tr>\n",
              "  </tbody>\n",
              "</table>\n",
              "</div>\n",
              "      <button class=\"colab-df-convert\" onclick=\"convertToInteractive('df-764aa5ff-22db-46a6-9a58-fb04103df168')\"\n",
              "              title=\"Convert this dataframe to an interactive table.\"\n",
              "              style=\"display:none;\">\n",
              "        \n",
              "  <svg xmlns=\"http://www.w3.org/2000/svg\" height=\"24px\"viewBox=\"0 0 24 24\"\n",
              "       width=\"24px\">\n",
              "    <path d=\"M0 0h24v24H0V0z\" fill=\"none\"/>\n",
              "    <path d=\"M18.56 5.44l.94 2.06.94-2.06 2.06-.94-2.06-.94-.94-2.06-.94 2.06-2.06.94zm-11 1L8.5 8.5l.94-2.06 2.06-.94-2.06-.94L8.5 2.5l-.94 2.06-2.06.94zm10 10l.94 2.06.94-2.06 2.06-.94-2.06-.94-.94-2.06-.94 2.06-2.06.94z\"/><path d=\"M17.41 7.96l-1.37-1.37c-.4-.4-.92-.59-1.43-.59-.52 0-1.04.2-1.43.59L10.3 9.45l-7.72 7.72c-.78.78-.78 2.05 0 2.83L4 21.41c.39.39.9.59 1.41.59.51 0 1.02-.2 1.41-.59l7.78-7.78 2.81-2.81c.8-.78.8-2.07 0-2.86zM5.41 20L4 18.59l7.72-7.72 1.47 1.35L5.41 20z\"/>\n",
              "  </svg>\n",
              "      </button>\n",
              "      \n",
              "  <style>\n",
              "    .colab-df-container {\n",
              "      display:flex;\n",
              "      flex-wrap:wrap;\n",
              "      gap: 12px;\n",
              "    }\n",
              "\n",
              "    .colab-df-convert {\n",
              "      background-color: #E8F0FE;\n",
              "      border: none;\n",
              "      border-radius: 50%;\n",
              "      cursor: pointer;\n",
              "      display: none;\n",
              "      fill: #1967D2;\n",
              "      height: 32px;\n",
              "      padding: 0 0 0 0;\n",
              "      width: 32px;\n",
              "    }\n",
              "\n",
              "    .colab-df-convert:hover {\n",
              "      background-color: #E2EBFA;\n",
              "      box-shadow: 0px 1px 2px rgba(60, 64, 67, 0.3), 0px 1px 3px 1px rgba(60, 64, 67, 0.15);\n",
              "      fill: #174EA6;\n",
              "    }\n",
              "\n",
              "    [theme=dark] .colab-df-convert {\n",
              "      background-color: #3B4455;\n",
              "      fill: #D2E3FC;\n",
              "    }\n",
              "\n",
              "    [theme=dark] .colab-df-convert:hover {\n",
              "      background-color: #434B5C;\n",
              "      box-shadow: 0px 1px 3px 1px rgba(0, 0, 0, 0.15);\n",
              "      filter: drop-shadow(0px 1px 2px rgba(0, 0, 0, 0.3));\n",
              "      fill: #FFFFFF;\n",
              "    }\n",
              "  </style>\n",
              "\n",
              "      <script>\n",
              "        const buttonEl =\n",
              "          document.querySelector('#df-764aa5ff-22db-46a6-9a58-fb04103df168 button.colab-df-convert');\n",
              "        buttonEl.style.display =\n",
              "          google.colab.kernel.accessAllowed ? 'block' : 'none';\n",
              "\n",
              "        async function convertToInteractive(key) {\n",
              "          const element = document.querySelector('#df-764aa5ff-22db-46a6-9a58-fb04103df168');\n",
              "          const dataTable =\n",
              "            await google.colab.kernel.invokeFunction('convertToInteractive',\n",
              "                                                     [key], {});\n",
              "          if (!dataTable) return;\n",
              "\n",
              "          const docLinkHtml = 'Like what you see? Visit the ' +\n",
              "            '<a target=\"_blank\" href=https://colab.research.google.com/notebooks/data_table.ipynb>data table notebook</a>'\n",
              "            + ' to learn more about interactive tables.';\n",
              "          element.innerHTML = '';\n",
              "          dataTable['output_type'] = 'display_data';\n",
              "          await google.colab.output.renderOutput(dataTable, element);\n",
              "          const docLink = document.createElement('div');\n",
              "          docLink.innerHTML = docLinkHtml;\n",
              "          element.appendChild(docLink);\n",
              "        }\n",
              "      </script>\n",
              "    </div>\n",
              "  </div>\n",
              "  "
            ]
          },
          "metadata": {},
          "execution_count": 16
        }
      ]
    },
    {
      "cell_type": "code",
      "source": [
        "#converting the selected dataset into a numpy array \n",
        "data_array = x_data.to_numpy()\n",
        "print(data_array)"
      ],
      "metadata": {
        "colab": {
          "base_uri": "https://localhost:8080/"
        },
        "id": "MnNC4DYhzydk",
        "outputId": "c3d83249-6c17-403e-8a37-0e54b39476fe"
      },
      "execution_count": 17,
      "outputs": [
        {
          "output_type": "stream",
          "name": "stdout",
          "text": [
            "[[1024.  179.]\n",
            " [1280.  179.]\n",
            " [ 640.  179.]\n",
            " ...\n",
            " [2048.   62.]\n",
            " [2400.   62.]\n",
            " [1600.  129.]]\n"
          ]
        }
      ]
    },
    {
      "cell_type": "markdown",
      "source": [
        "We will be using **Agglomerative clustering** instead of Divisive clustering. In this algorithm goes as follows:\n",
        "\n",
        "\n",
        "*   We will start by assigning each item to its own cluster. Hence, for n items in the dataset, there will be n number of clusters with each cluster containing an item\n",
        "*   Next up, we will find the closest pair of clusters. In other words take the distance between the centroids of these clusters with points having the least distance will be referred to as similar points and we can merge them.\n",
        "\n",
        "*   Afterwards, we need to compute the distance between the nuew clusters and each of the old clusters. \n",
        "*   Finally repeat the last two steps until all the item are clustered into a single cluster of size n\n"
      ],
      "metadata": {
        "id": "2mrjs5ktz4o9"
      }
    },
    {
      "cell_type": "code",
      "source": [
        "import sys\n",
        "from sklearn.metrics.pairwise import pairwise_distances\n",
        "from numpy import linalg as LA\n",
        "from sklearn import datasets \n",
        "import scipy as sp\n",
        "\n",
        "\n",
        "def agglomerative_clustering(data_array, linkage, number_of_clusters):\n",
        "  #calculating the initial distance matrix\n",
        "  #takes the input vector array and computes the distance\n",
        "  #source: https://scikit-learn.org/stable/modules/generated/sklearn.metrics.pairwise_distances \n",
        "  #and make all the diagonal elements of the matrix infinity\n",
        "  distance_matrix = pairwise_distances(data_array, metric = 'euclidean')\n",
        "  np.fill_diagonal(distance_matrix, sys.maxsize)\n",
        "\n",
        "  #finding the cluster from linkage\n",
        "  #using a self-defined function\n",
        "  clusters = choice_of_cluster(distance_matrix,linkage) \n",
        "\n",
        "  #plotting the clusters\n",
        "  no_of_iter = distance_matrix.shape[0] - number_of_clusters\n",
        "  clusters_to_plot = clusters[no_of_iter]\n",
        "\n",
        "  #find the unique elements of the array\n",
        "  unique_array = np.unique(clusters_to_plot)\n",
        "    \n",
        "  plot_index = []\n",
        "  fig = plt.figure(figsize=(10,10))\n",
        "  fig.suptitle(\"Agglomerative Cluster Plot, Linkage: \" + str(linkage) +\"& Number of Cluster: \"+ str(number_of_clusters))\n",
        "  ax = fig.add_subplot(1,1,1)\n",
        "  ax.set_xlabel('Max_res')\n",
        "  ax.set_ylabel('Price')\n",
        "\n",
        "  #iterating over the array\n",
        "  for x in np.nditer(unique_array):\n",
        "        plot_index.append(np.where(clusters_to_plot==x))\n",
        "  \n",
        "  x = 0\n",
        "  colors = ['r','g','k','y','c','m','b','w']\n",
        "  for i in range(0, len(plot_index)):\n",
        "    for j in np.nditer(plot_index[i]):\n",
        "      ax.scatter(data_array[j,0], data_array[j,1], c = colors[x])\n",
        "    x += 1\n",
        "  \n",
        "  #plot the cluster\n",
        "  plt.show\n"
      ],
      "metadata": {
        "id": "EyJ7XsmLz5Hz"
      },
      "execution_count": 18,
      "outputs": []
    },
    {
      "cell_type": "markdown",
      "source": [
        "**Linkages**\n",
        "\n",
        "Linkages distance is directly proportional to similarity between clusters. Inorder to create merger between the clusters, we can utilize the following methods:\n",
        "\n",
        "**Single Linkage:**\n",
        "Single linkage clustering yields clusters in which individuals are added sequentially to a single group. The distance conidered is the minimun distance between the two clusters or is defined as the distance between their two nearest data points.\n",
        "\n",
        "**Complete Linkage:**\n",
        "Complete linkage clustering yields clusters that are well segregated and compact. The distance considered is the maximum distance between the two clusters or is defined as the longest distance between two data points in each cluster.\n",
        "\n",
        "**Average Linkage:**\n",
        "The avarage linkage algorithm defines the distance between clusters as the average distance between each of the members, weighted so that the two clusters have an equal influence on the final output. \n"
      ],
      "metadata": {
        "id": "-WlSAyPc8ND9"
      }
    },
    {
      "cell_type": "code",
      "source": [
        "def choice_of_cluster(choice, linkage):\n",
        "  clusters = {}\n",
        "  index_row = -1\n",
        "  index_column = -1\n",
        "  arr = []\n",
        "\n",
        "  for i in range(choice.shape[0]):\n",
        "    arr.append(i)\n",
        "  \n",
        "  #create a shallow copy\n",
        "  clusters[0] = arr.copy()\n",
        "\n",
        "  #creating a loop that will return the minimum value from the bottom of the triangle matrix\n",
        "  for x in range(1, choice.shape[0]):\n",
        "    minimum_value = sys.maxsize\n",
        "\n",
        "    #finding the minimum value of the distance matrix\n",
        "    for i in range(0, choice.shape[0]):\n",
        "      for j in range(0, choice.shape[0]):\n",
        "        if(choice[i][j] <= minimum_value):\n",
        "          minimum_value = choice[i][j]\n",
        "          index_row = i\n",
        "          index_column = j\n",
        "    #we need to update the distance matrix after finding the minimum value \n",
        "    #this will be the same process of calculating the new distance from the clusters to all points\n",
        "    #hence the choice of linkage\n",
        "\n",
        "    if(linkage == \"single\"):\n",
        "            for i in range(0,choice.shape[0]):\n",
        "                if(i != index_column):\n",
        "                    #calculate the distance of every data point from newly formed cluster and update the matrix.\n",
        "                    temp_dist = min(choice[index_column][i],choice[index_row][i])\n",
        "                    #we update the matrix symmetrically as the distance matrix should always be symmetric\n",
        "                    choice[index_column][i] = temp_dist\n",
        "                    choice[i][index_column] = temp_dist\n",
        "    \n",
        "    elif(linkage==\"complete\"):\n",
        "             for i in range(0,choice.shape[0]):\n",
        "                if(i != index_column and i!=index_row):\n",
        "                    #calculate the distance of every data point from newly formed cluster and update the matrix.\n",
        "                    temp_dist = min(choice[index_column][i],choice[index_row][i])\n",
        "                    #we update the matrix symmetrically as the distance matrix should always be symmetric\n",
        "                    choice[index_column][i] = temp_dist\n",
        "                    choice[i][index_column] = temp_dist\n",
        "    \n",
        "    elif(linkage==\"average\"):\n",
        "             for i in range(0,choice.shape[0]):\n",
        "                if(i != index_column and i!=index_row):\n",
        "                    #calculate the distance of every data point from newly formed cluster and update the matrix.\n",
        "                    temp_dist = (choice[index_column][i]+choice[index_row][i])/2\n",
        "                    #we update the matrix symmetrically as the distance matrix should always be symmetric\n",
        "                    choice[index_column][i] = temp_dist\n",
        "                    choice[i][index_column] = temp_dist\n",
        "\n",
        "    \n",
        "    #finally we need to set the rows and colums for the clusters to infinity\n",
        "    #this is for the clusters with a higher index\n",
        "    for i in range (0,choice.shape[0]):\n",
        "            choice[index_row][i] = sys.maxsize #[row_index][for_all_i] = infinity\n",
        "            choice[i][index_row] = sys.maxsize #[for_all_i][row_index] = infinity\n",
        "    #we need to keep track of all the clusters in the each step\n",
        "    #all the datapoints are present in the cluster when x = 0\n",
        "    minimum = min(index_row,index_column)\n",
        "    maximum = max(index_row,index_column)\n",
        "    for n in range(len(arr)):\n",
        "      if(arr[n]==maximum):\n",
        "        arr[n] = minimum\n",
        "    \n",
        "    #make a copy\n",
        "    clusters[x] = arr.copy()\n",
        "\n",
        "  return clusters\n",
        "\n",
        "\n"
      ],
      "metadata": {
        "id": "6ZxTBnUi8SFK"
      },
      "execution_count": 19,
      "outputs": []
    },
    {
      "cell_type": "code",
      "source": [
        "#plotting a cluster for reference\n",
        "fig = plt.figure(figsize=(10,10))\n",
        "fig.suptitle('Scatter Plot for Max resolution and Price')\n",
        "ax = fig.add_subplot(1,1,1)\n",
        "ax.set_xlabel('Max resolution')\n",
        "ax.set_ylabel('Price')\n",
        "ax.scatter(data_array[:,0],data_array[:,1])"
      ],
      "metadata": {
        "colab": {
          "base_uri": "https://localhost:8080/",
          "height": 694
        },
        "id": "iP-XFxeg_M6r",
        "outputId": "ca9fcce1-3a3a-460f-885c-608792e6d035"
      },
      "execution_count": 20,
      "outputs": [
        {
          "output_type": "execute_result",
          "data": {
            "text/plain": [
              "<matplotlib.collections.PathCollection at 0x7f55610e4b50>"
            ]
          },
          "metadata": {},
          "execution_count": 20
        },
        {
          "output_type": "display_data",
          "data": {
            "text/plain": [
              "<Figure size 720x720 with 1 Axes>"
            ],
            "image/png": "[encoded data removed]"
          },
          "metadata": {
            "needs_background": "light"
          }
        }
      ]
    },
    {
      "cell_type": "code",
      "source": [
        "#by refrencing the dendrogram above, lets choose the number of clusters to be 4 with single linkage\n",
        "agglomerative_clustering(data_array,\"single\", 4)"
      ],
      "metadata": {
        "colab": {
          "base_uri": "https://localhost:8080/",
          "height": 678
        },
        "id": "yiLEsXHiCKyi",
        "outputId": "74dc3eea-f241-4ced-a839-8b0bf908576b"
      },
      "execution_count": 21,
      "outputs": [
        {
          "output_type": "display_data",
          "data": {
            "text/plain": [
              "<Figure size 720x720 with 1 Axes>"
            ],
            "image/png": "[encoded data removed]"
          },
          "metadata": {
            "needs_background": "light"
          }
        }
      ]
    },
    {
      "cell_type": "code",
      "source": [
        "#by refrencing the dendrogram above, lets choose the number of clusters to be 2 with single linkage\n",
        "agglomerative_clustering(data_array,\"single\", 2)"
      ],
      "metadata": {
        "colab": {
          "base_uri": "https://localhost:8080/",
          "height": 678
        },
        "id": "E-M1ZkraIfmD",
        "outputId": "4249a3e2-81a6-4133-c197-b67d72d9f82d"
      },
      "execution_count": 22,
      "outputs": [
        {
          "output_type": "display_data",
          "data": {
            "text/plain": [
              "<Figure size 720x720 with 1 Axes>"
            ],
            "image/png": "[encoded data removed]"
          },
          "metadata": {
            "needs_background": "light"
          }
        }
      ]
    }
  ]
}